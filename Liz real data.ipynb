{
 "cells": [
  {
   "cell_type": "code",
   "execution_count": 8,
   "metadata": {},
   "outputs": [],
   "source": [
    "import requests\n",
    "from bs4 import BeautifulSoup\n",
    "import pandas as pd\n",
    "\n",
    "# Alpha Vantage API key (replace with your own key)\n",
    "alpha_vantage_api_key = 'ZZC2O15C5F44W6KL'\n",
    "\n",
    "# Function to get financial data from Alpha Vantage\n",
    "def get_financial_data(symbol):\n",
    "    base_url = 'https://www.alphavantage.co/query'\n",
    "    function = 'OVERVIEW'\n",
    "    \n",
    "    params = {\n",
    "        'function': function,\n",
    "        'symbol': symbol,\n",
    "        'apikey': alpha_vantage_api_key,\n",
    "    }\n",
    "\n",
    "    response = requests.get(base_url, params=params)\n",
    "    data = response.json()\n",
    "    \n",
    "    return data"
   ]
  },
  {
   "cell_type": "code",
   "execution_count": 9,
   "metadata": {},
   "outputs": [],
   "source": [
    "# Function to scrape financial news related to the company\n",
    "def scrape_financial_news(query):\n",
    "    base_url = f'https://finance.yahoo.com/quote/{query}/news?p={query}'\n",
    "    response = requests.get(base_url)\n",
    "    soup = BeautifulSoup(response.text, 'html.parser')\n",
    "\n",
    "    # Add your scraping logic here\n",
    "    # Extract relevant information using soup.find() or soup.select()\n",
    "\n",
    "    # Sample: Extracting news headlines\n",
    "    headlines = [headline.text for headline in soup.find_all('h3', class_='Mb(5px)')]\n",
    "\n",
    "    return headlines"
   ]
  },
  {
   "cell_type": "code",
   "execution_count": 10,
   "metadata": {},
   "outputs": [
    {
     "name": "stdout",
     "output_type": "stream",
     "text": [
      "Company Overview:\n",
      "Name: Canoo Inc\n",
      "Sector: MANUFACTURING\n",
      "Industry: MOTOR VEHICLE PARTS & ACCESSORIES\n",
      "Market Capitalization: 156933000\n",
      "Revenue: 519000\n"
     ]
    }
   ],
   "source": [
    "# Ticker symbol for Canoo on NASDAQ\n",
    "canoo_symbol = 'GOEV'\n",
    "\n",
    "# Get financial data from Alpha Vantage\n",
    "financial_data = get_financial_data(canoo_symbol)\n",
    "\n",
    "# Display relevant financial information\n",
    "print(\"Company Overview:\")\n",
    "print(\"Name:\", financial_data.get('Name'))\n",
    "print(\"Sector:\", financial_data.get('Sector'))\n",
    "print(\"Industry:\", financial_data.get('Industry'))\n",
    "print(\"Market Capitalization:\", financial_data.get('MarketCapitalization'))\n",
    "print(\"Revenue:\", financial_data.get('RevenueTTM'))"
   ]
  },
  {
   "cell_type": "code",
   "execution_count": 11,
   "metadata": {},
   "outputs": [
    {
     "name": "stdout",
     "output_type": "stream",
     "text": [
      "\n",
      "Financial News Headlines:\n"
     ]
    }
   ],
   "source": [
    "# Scrape financial news\n",
    "financial_news = scrape_financial_news(canoo_symbol)\n",
    "\n",
    "# Display scraped financial news headlines\n",
    "print(\"\\nFinancial News Headlines:\")\n",
    "for i, headline in enumerate(financial_news, 1):\n",
    "    print(f\"{i}. {headline}\")"
   ]
  },
  {
   "cell_type": "code",
   "execution_count": 12,
   "metadata": {},
   "outputs": [
    {
     "name": "stdout",
     "output_type": "stream",
     "text": [
      "Financial data saved to canoo_financial_data.csv\n"
     ]
    }
   ],
   "source": [
    "\n",
    "# Save financial data to a CSV file\n",
    "financial_data_to_csv = {\n",
    "    'Name': [financial_data.get('Name')],\n",
    "    'Sector': [financial_data.get('Sector')],\n",
    "    'Industry': [financial_data.get('Industry')],\n",
    "    'Market Capitalization': [financial_data.get('MarketCapitalization')],\n",
    "    'Revenue': [financial_data.get('RevenueTTM')],\n",
    "}\n",
    "\n",
    "df = pd.DataFrame(financial_data_to_csv)\n",
    "df.to_csv('canoo_financial_data.csv', index=False)\n",
    "print('Financial data saved to canoo_financial_data.csv')"
   ]
  },
  {
   "cell_type": "code",
   "execution_count": 14,
   "metadata": {},
   "outputs": [
    {
     "name": "stdout",
     "output_type": "stream",
     "text": [
      "        Name         Sector                           Industry  \\\n",
      "0  Canoo Inc  MANUFACTURING  MOTOR VEHICLE PARTS & ACCESSORIES   \n",
      "\n",
      "   Market Capitalization  Revenue  \n",
      "0              156933000   519000  \n"
     ]
    }
   ],
   "source": [
    "import pandas as pd\n",
    "\n",
    "# Specify the path to your CSV file\n",
    "csv_file_path = 'canoo_financial_data.csv'\n",
    "# Load CSV data into a DataFrame\n",
    "df = pd.read_csv(csv_file_path)\n",
    "\n",
    "# Display the DataFrame\n",
    "print(df)\n"
   ]
  },
  {
   "cell_type": "code",
   "execution_count": null,
   "metadata": {},
   "outputs": [],
   "source": []
  },
  {
   "cell_type": "code",
   "execution_count": 26,
   "metadata": {},
   "outputs": [
    {
     "name": "stdout",
     "output_type": "stream",
     "text": [
      "[*********************100%%**********************]  1 of 1 completed\n",
      "            Open   High   Low  Close  Adj Close   Volume\n",
      "Date                                                    \n",
      "2022-01-03  7.94  8.240  7.85   8.11       8.11  2531700\n",
      "2022-01-04  8.17  8.218  7.55   7.75       7.75  3278500\n",
      "2022-01-05  7.75  7.875  7.13   7.29       7.29  4277000\n",
      "2022-01-06  7.43  7.430  6.94   6.98       6.98  4312400\n",
      "2022-01-07  7.02  7.330  6.90   7.00       7.00  2757900\n"
     ]
    }
   ],
   "source": [
    "import yfinance as yf\n",
    "start_date = '2022-01-01'\n",
    "end_date = '2024-01-01'\n",
    "ticker = 'GOEV'\n",
    "data = yf.download(ticker, start_date, end_date)\n",
    "print(data.head())"
   ]
  },
  {
   "cell_type": "code",
   "execution_count": 27,
   "metadata": {},
   "outputs": [],
   "source": [
    "# Export data to a CSV file\n",
    "data.to_csv(\"GOEV.csv\")"
   ]
  },
  {
   "cell_type": "code",
   "execution_count": 28,
   "metadata": {},
   "outputs": [
    {
     "name": "stdout",
     "output_type": "stream",
     "text": [
      "           Date   Open   High    Low  Close  Adj Close    Volume\n",
      "0    2022-01-03  7.940  8.240  7.850  8.110      8.110   2531700\n",
      "1    2022-01-04  8.170  8.218  7.550  7.750      7.750   3278500\n",
      "2    2022-01-05  7.750  7.875  7.130  7.290      7.290   4277000\n",
      "3    2022-01-06  7.430  7.430  6.940  6.980      6.980   4312400\n",
      "4    2022-01-07  7.020  7.330  6.900  7.000      7.000   2757900\n",
      "..          ...    ...    ...    ...    ...        ...       ...\n",
      "496  2023-12-22  0.242  0.249  0.237  0.237      0.237  41555100\n",
      "497  2023-12-26  0.239  0.240  0.228  0.234      0.234  39157600\n",
      "498  2023-12-27  0.232  0.247  0.232  0.247      0.247  32856000\n",
      "499  2023-12-28  0.245  0.272  0.245  0.263      0.263  53087500\n",
      "500  2023-12-29  0.268  0.271  0.254  0.257      0.257  31261000\n",
      "\n",
      "[501 rows x 7 columns]\n"
     ]
    }
   ],
   "source": [
    "import pandas as pd\n",
    "\n",
    "# Specify the path to your CSV file\n",
    "csv_file_path = \"GOEV.csv\"\n",
    "\n",
    "# Load CSV data into a DataFrame\n",
    "df = pd.read_csv(csv_file_path)\n",
    "\n",
    "# Display the DataFrame\n",
    "print(df)\n"
   ]
  },
  {
   "cell_type": "code",
   "execution_count": null,
   "metadata": {},
   "outputs": [],
   "source": []
  }
 ],
 "metadata": {
  "kernelspec": {
   "display_name": "Python 3",
   "language": "python",
   "name": "python3"
  },
  "language_info": {
   "codemirror_mode": {
    "name": "ipython",
    "version": 3
   },
   "file_extension": ".py",
   "mimetype": "text/x-python",
   "name": "python",
   "nbconvert_exporter": "python",
   "pygments_lexer": "ipython3",
   "version": "3.11.5"
  }
 },
 "nbformat": 4,
 "nbformat_minor": 2
}
